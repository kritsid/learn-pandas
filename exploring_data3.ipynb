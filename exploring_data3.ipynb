{
  "nbformat": 4,
  "nbformat_minor": 0,
  "metadata": {
    "colab": {
      "name": "exploring_data3.ipynb",
      "provenance": [],
      "collapsed_sections": []
    },
    "kernelspec": {
      "name": "python3",
      "display_name": "Python 3"
    }
  },
  "cells": [
    {
      "cell_type": "markdown",
      "metadata": {
        "id": "19Kq07LFvrE-",
        "colab_type": "text"
      },
      "source": [
        "\n",
        "adding new columns  ,   adding new rows\n",
        "\n",
        "deletion of rows or columns"
      ]
    },
    {
      "cell_type": "code",
      "metadata": {
        "id": "fss7vre2iJIJ",
        "colab_type": "code",
        "colab": {}
      },
      "source": [
        "# adding new rows/updating the data:\n",
        "\n",
        "1) using append function\n",
        "2) using loc/iloc"
      ],
      "execution_count": null,
      "outputs": []
    },
    {
      "cell_type": "code",
      "metadata": {
        "id": "QwIHfrTCiCez",
        "colab_type": "code",
        "colab": {}
      },
      "source": [
        "# libraries\n",
        "import pandas as pd\n"
      ],
      "execution_count": null,
      "outputs": []
    },
    {
      "cell_type": "markdown",
      "metadata": {
        "id": "YMKweRK9i0DX",
        "colab_type": "text"
      },
      "source": [
        "df.append(other, ignore_index  = , sort = )\n",
        "other : DataFrame or Series/dict-like object, or list of these. The data to append.  "
      ]
    },
    {
      "cell_type": "code",
      "metadata": {
        "id": "4V60yKpKiCbt",
        "colab_type": "code",
        "colab": {
          "base_uri": "https://localhost:8080/",
          "height": 300
        },
        "outputId": "1c62494c-e1d0-453f-9348-50a7742dd967"
      },
      "source": [
        "df = pd.DataFrame({'name':pd.Series(['riya','julie','marie','sandy','garim','darsh','ranisha','john']),'age':pd.Series([15,16,15,15,16,15,15,15]),'eng_marks':pd.Series([78,45,90,88,65,94,52,63]),'sci_marks':pd.Series([87,54,100,78,55,44,92,73])})\n",
        "df"
      ],
      "execution_count": null,
      "outputs": [
        {
          "output_type": "execute_result",
          "data": {
            "text/html": [
              "<div>\n",
              "<style scoped>\n",
              "    .dataframe tbody tr th:only-of-type {\n",
              "        vertical-align: middle;\n",
              "    }\n",
              "\n",
              "    .dataframe tbody tr th {\n",
              "        vertical-align: top;\n",
              "    }\n",
              "\n",
              "    .dataframe thead th {\n",
              "        text-align: right;\n",
              "    }\n",
              "</style>\n",
              "<table border=\"1\" class=\"dataframe\">\n",
              "  <thead>\n",
              "    <tr style=\"text-align: right;\">\n",
              "      <th></th>\n",
              "      <th>name</th>\n",
              "      <th>age</th>\n",
              "      <th>eng_marks</th>\n",
              "      <th>sci_marks</th>\n",
              "    </tr>\n",
              "  </thead>\n",
              "  <tbody>\n",
              "    <tr>\n",
              "      <th>0</th>\n",
              "      <td>riya</td>\n",
              "      <td>15</td>\n",
              "      <td>78</td>\n",
              "      <td>87</td>\n",
              "    </tr>\n",
              "    <tr>\n",
              "      <th>1</th>\n",
              "      <td>julie</td>\n",
              "      <td>16</td>\n",
              "      <td>45</td>\n",
              "      <td>54</td>\n",
              "    </tr>\n",
              "    <tr>\n",
              "      <th>2</th>\n",
              "      <td>marie</td>\n",
              "      <td>15</td>\n",
              "      <td>90</td>\n",
              "      <td>100</td>\n",
              "    </tr>\n",
              "    <tr>\n",
              "      <th>3</th>\n",
              "      <td>sandy</td>\n",
              "      <td>15</td>\n",
              "      <td>88</td>\n",
              "      <td>78</td>\n",
              "    </tr>\n",
              "    <tr>\n",
              "      <th>4</th>\n",
              "      <td>garim</td>\n",
              "      <td>16</td>\n",
              "      <td>65</td>\n",
              "      <td>55</td>\n",
              "    </tr>\n",
              "    <tr>\n",
              "      <th>5</th>\n",
              "      <td>darsh</td>\n",
              "      <td>15</td>\n",
              "      <td>94</td>\n",
              "      <td>44</td>\n",
              "    </tr>\n",
              "    <tr>\n",
              "      <th>6</th>\n",
              "      <td>ranisha</td>\n",
              "      <td>15</td>\n",
              "      <td>52</td>\n",
              "      <td>92</td>\n",
              "    </tr>\n",
              "    <tr>\n",
              "      <th>7</th>\n",
              "      <td>john</td>\n",
              "      <td>15</td>\n",
              "      <td>63</td>\n",
              "      <td>73</td>\n",
              "    </tr>\n",
              "  </tbody>\n",
              "</table>\n",
              "</div>"
            ],
            "text/plain": [
              "      name  age  eng_marks  sci_marks\n",
              "0     riya   15         78         87\n",
              "1    julie   16         45         54\n",
              "2    marie   15         90        100\n",
              "3    sandy   15         88         78\n",
              "4    garim   16         65         55\n",
              "5    darsh   15         94         44\n",
              "6  ranisha   15         52         92\n",
              "7     john   15         63         73"
            ]
          },
          "metadata": {
            "tags": []
          },
          "execution_count": 26
        }
      ]
    },
    {
      "cell_type": "code",
      "metadata": {
        "id": "5F_jsuy7iMhx",
        "colab_type": "code",
        "colab": {}
      },
      "source": [
        "# //if new_data to be added is a dictionary\n",
        "new_data = {'name':'kri','age':16,'eng_marks':89,'sci_marks':91}\n",
        "df = df.append(pd.Series(new_data,name='new_row'))\n",
        "# if we are pd series/dict, there has to be a name or ignore_index must be true so that it can assign a next index on its own."
      ],
      "execution_count": null,
      "outputs": []
    },
    {
      "cell_type": "code",
      "metadata": {
        "id": "1VdCfF-LiMdD",
        "colab_type": "code",
        "colab": {}
      },
      "source": [
        "# //if new_data to be added is a list\n",
        "new_data = [{'name':'sam','age':16,'eng_marks':84,'sci_marks':61}]\n",
        "df = df.append(new_data,ignore_index=True)\n",
        "# new_data.index({'name':'sam','age':16,'eng_marks':84,'sci_marks':61})"
      ],
      "execution_count": null,
      "outputs": []
    },
    {
      "cell_type": "code",
      "metadata": {
        "id": "Lv-zc7BQvqB2",
        "colab_type": "code",
        "colab": {
          "base_uri": "https://localhost:8080/",
          "height": 395
        },
        "outputId": "1aea50b1-8926-47f3-fd95-79bf7c5ec70a"
      },
      "source": [
        "# if new_data to be added is a data frame\n",
        "new_data = {'name':'sam','age':16,'eng_marks':84,'sci_marks':61}\n",
        "df = df.append(pd.DataFrame(new_data,index =[10]))\n",
        "df"
      ],
      "execution_count": null,
      "outputs": [
        {
          "output_type": "execute_result",
          "data": {
            "text/html": [
              "<div>\n",
              "<style scoped>\n",
              "    .dataframe tbody tr th:only-of-type {\n",
              "        vertical-align: middle;\n",
              "    }\n",
              "\n",
              "    .dataframe tbody tr th {\n",
              "        vertical-align: top;\n",
              "    }\n",
              "\n",
              "    .dataframe thead th {\n",
              "        text-align: right;\n",
              "    }\n",
              "</style>\n",
              "<table border=\"1\" class=\"dataframe\">\n",
              "  <thead>\n",
              "    <tr style=\"text-align: right;\">\n",
              "      <th></th>\n",
              "      <th>name</th>\n",
              "      <th>age</th>\n",
              "      <th>eng_marks</th>\n",
              "      <th>sci_marks</th>\n",
              "    </tr>\n",
              "  </thead>\n",
              "  <tbody>\n",
              "    <tr>\n",
              "      <th>0</th>\n",
              "      <td>riya</td>\n",
              "      <td>15</td>\n",
              "      <td>78</td>\n",
              "      <td>87</td>\n",
              "    </tr>\n",
              "    <tr>\n",
              "      <th>1</th>\n",
              "      <td>julie</td>\n",
              "      <td>16</td>\n",
              "      <td>45</td>\n",
              "      <td>54</td>\n",
              "    </tr>\n",
              "    <tr>\n",
              "      <th>2</th>\n",
              "      <td>marie</td>\n",
              "      <td>15</td>\n",
              "      <td>90</td>\n",
              "      <td>100</td>\n",
              "    </tr>\n",
              "    <tr>\n",
              "      <th>3</th>\n",
              "      <td>sandy</td>\n",
              "      <td>15</td>\n",
              "      <td>88</td>\n",
              "      <td>78</td>\n",
              "    </tr>\n",
              "    <tr>\n",
              "      <th>4</th>\n",
              "      <td>garim</td>\n",
              "      <td>16</td>\n",
              "      <td>65</td>\n",
              "      <td>55</td>\n",
              "    </tr>\n",
              "    <tr>\n",
              "      <th>5</th>\n",
              "      <td>darsh</td>\n",
              "      <td>15</td>\n",
              "      <td>94</td>\n",
              "      <td>44</td>\n",
              "    </tr>\n",
              "    <tr>\n",
              "      <th>6</th>\n",
              "      <td>ranisha</td>\n",
              "      <td>15</td>\n",
              "      <td>52</td>\n",
              "      <td>92</td>\n",
              "    </tr>\n",
              "    <tr>\n",
              "      <th>7</th>\n",
              "      <td>john</td>\n",
              "      <td>15</td>\n",
              "      <td>63</td>\n",
              "      <td>73</td>\n",
              "    </tr>\n",
              "    <tr>\n",
              "      <th>8</th>\n",
              "      <td>kri</td>\n",
              "      <td>16</td>\n",
              "      <td>89</td>\n",
              "      <td>91</td>\n",
              "    </tr>\n",
              "    <tr>\n",
              "      <th>9</th>\n",
              "      <td>sam</td>\n",
              "      <td>16</td>\n",
              "      <td>84</td>\n",
              "      <td>61</td>\n",
              "    </tr>\n",
              "    <tr>\n",
              "      <th>10</th>\n",
              "      <td>sam</td>\n",
              "      <td>16</td>\n",
              "      <td>84</td>\n",
              "      <td>61</td>\n",
              "    </tr>\n",
              "  </tbody>\n",
              "</table>\n",
              "</div>"
            ],
            "text/plain": [
              "       name  age  eng_marks  sci_marks\n",
              "0      riya   15         78         87\n",
              "1     julie   16         45         54\n",
              "2     marie   15         90        100\n",
              "3     sandy   15         88         78\n",
              "4     garim   16         65         55\n",
              "5     darsh   15         94         44\n",
              "6   ranisha   15         52         92\n",
              "7      john   15         63         73\n",
              "8       kri   16         89         91\n",
              "9       sam   16         84         61\n",
              "10      sam   16         84         61"
            ]
          },
          "metadata": {
            "tags": []
          },
          "execution_count": 29
        }
      ]
    },
    {
      "cell_type": "code",
      "metadata": {
        "id": "PC7fn2ufsix2",
        "colab_type": "code",
        "colab": {}
      },
      "source": [
        "# so to summaise what we have covered so far is:\n",
        "# for passing a list, never be a problem.\n",
        "# for passing a series,dict - must name the series or just pass ignore_index - True\n",
        "# for passing a data frame, we have to either make df from a list or pass index "
      ],
      "execution_count": null,
      "outputs": []
    },
    {
      "cell_type": "code",
      "metadata": {
        "id": "fdTaBkfDrYpC",
        "colab_type": "code",
        "colab": {
          "base_uri": "https://localhost:8080/",
          "height": 489
        },
        "outputId": "f66b3060-d26f-47bd-b857-991c38f2b98b"
      },
      "source": [
        "# using loc[] / iloc[]\n",
        "new_data = [{'name':'sami','age':16,'eng_marks':44,'sci_marks':66}]\n",
        "df.loc[len(df)] = list(new_data[0].values())\n",
        "df"
      ],
      "execution_count": null,
      "outputs": [
        {
          "output_type": "execute_result",
          "data": {
            "text/html": [
              "<div>\n",
              "<style scoped>\n",
              "    .dataframe tbody tr th:only-of-type {\n",
              "        vertical-align: middle;\n",
              "    }\n",
              "\n",
              "    .dataframe tbody tr th {\n",
              "        vertical-align: top;\n",
              "    }\n",
              "\n",
              "    .dataframe thead th {\n",
              "        text-align: right;\n",
              "    }\n",
              "</style>\n",
              "<table border=\"1\" class=\"dataframe\">\n",
              "  <thead>\n",
              "    <tr style=\"text-align: right;\">\n",
              "      <th></th>\n",
              "      <th>name</th>\n",
              "      <th>age</th>\n",
              "      <th>eng_marks</th>\n",
              "      <th>sci_marks</th>\n",
              "    </tr>\n",
              "  </thead>\n",
              "  <tbody>\n",
              "    <tr>\n",
              "      <th>0</th>\n",
              "      <td>riya</td>\n",
              "      <td>15</td>\n",
              "      <td>78</td>\n",
              "      <td>87</td>\n",
              "    </tr>\n",
              "    <tr>\n",
              "      <th>1</th>\n",
              "      <td>julie</td>\n",
              "      <td>16</td>\n",
              "      <td>45</td>\n",
              "      <td>54</td>\n",
              "    </tr>\n",
              "    <tr>\n",
              "      <th>2</th>\n",
              "      <td>marie</td>\n",
              "      <td>15</td>\n",
              "      <td>90</td>\n",
              "      <td>100</td>\n",
              "    </tr>\n",
              "    <tr>\n",
              "      <th>3</th>\n",
              "      <td>sandy</td>\n",
              "      <td>15</td>\n",
              "      <td>88</td>\n",
              "      <td>78</td>\n",
              "    </tr>\n",
              "    <tr>\n",
              "      <th>4</th>\n",
              "      <td>garim</td>\n",
              "      <td>16</td>\n",
              "      <td>65</td>\n",
              "      <td>55</td>\n",
              "    </tr>\n",
              "    <tr>\n",
              "      <th>5</th>\n",
              "      <td>darsh</td>\n",
              "      <td>15</td>\n",
              "      <td>94</td>\n",
              "      <td>44</td>\n",
              "    </tr>\n",
              "    <tr>\n",
              "      <th>6</th>\n",
              "      <td>ranisha</td>\n",
              "      <td>15</td>\n",
              "      <td>52</td>\n",
              "      <td>92</td>\n",
              "    </tr>\n",
              "    <tr>\n",
              "      <th>7</th>\n",
              "      <td>john</td>\n",
              "      <td>15</td>\n",
              "      <td>63</td>\n",
              "      <td>73</td>\n",
              "    </tr>\n",
              "    <tr>\n",
              "      <th>8</th>\n",
              "      <td>kri</td>\n",
              "      <td>16</td>\n",
              "      <td>89</td>\n",
              "      <td>91</td>\n",
              "    </tr>\n",
              "    <tr>\n",
              "      <th>9</th>\n",
              "      <td>sam</td>\n",
              "      <td>16</td>\n",
              "      <td>84</td>\n",
              "      <td>61</td>\n",
              "    </tr>\n",
              "    <tr>\n",
              "      <th>10</th>\n",
              "      <td>sam</td>\n",
              "      <td>16</td>\n",
              "      <td>84</td>\n",
              "      <td>61</td>\n",
              "    </tr>\n",
              "    <tr>\n",
              "      <th>11</th>\n",
              "      <td>(sam, 16, 84, 61)</td>\n",
              "      <td>(sam, 16, 84, 61)</td>\n",
              "      <td>(sam, 16, 84, 61)</td>\n",
              "      <td>(sam, 16, 84, 61)</td>\n",
              "    </tr>\n",
              "    <tr>\n",
              "      <th>12</th>\n",
              "      <td>(sam, 16, 84, 61)</td>\n",
              "      <td>(sam, 16, 84, 61)</td>\n",
              "      <td>(sam, 16, 84, 61)</td>\n",
              "      <td>(sam, 16, 84, 61)</td>\n",
              "    </tr>\n",
              "    <tr>\n",
              "      <th>13</th>\n",
              "      <td>sami</td>\n",
              "      <td>16</td>\n",
              "      <td>44</td>\n",
              "      <td>66</td>\n",
              "    </tr>\n",
              "  </tbody>\n",
              "</table>\n",
              "</div>"
            ],
            "text/plain": [
              "                 name                age          eng_marks          sci_marks\n",
              "0                riya                 15                 78                 87\n",
              "1               julie                 16                 45                 54\n",
              "2               marie                 15                 90                100\n",
              "3               sandy                 15                 88                 78\n",
              "4               garim                 16                 65                 55\n",
              "5               darsh                 15                 94                 44\n",
              "6             ranisha                 15                 52                 92\n",
              "7                john                 15                 63                 73\n",
              "8                 kri                 16                 89                 91\n",
              "9                 sam                 16                 84                 61\n",
              "10                sam                 16                 84                 61\n",
              "11  (sam, 16, 84, 61)  (sam, 16, 84, 61)  (sam, 16, 84, 61)  (sam, 16, 84, 61)\n",
              "12  (sam, 16, 84, 61)  (sam, 16, 84, 61)  (sam, 16, 84, 61)  (sam, 16, 84, 61)\n",
              "13               sami                 16                 44                 66"
            ]
          },
          "metadata": {
            "tags": []
          },
          "execution_count": 32
        }
      ]
    },
    {
      "cell_type": "code",
      "metadata": {
        "id": "Nt4OUugfvUGk",
        "colab_type": "code",
        "colab": {}
      },
      "source": [
        "df.drop(12,inplace=True)"
      ],
      "execution_count": null,
      "outputs": []
    },
    {
      "cell_type": "code",
      "metadata": {
        "id": "5FVjQcawvmPf",
        "colab_type": "code",
        "colab": {
          "base_uri": "https://localhost:8080/",
          "height": 426
        },
        "outputId": "f12444b5-f599-4cd7-8d27-dd963fa3283b"
      },
      "source": [
        "df"
      ],
      "execution_count": null,
      "outputs": [
        {
          "output_type": "execute_result",
          "data": {
            "text/html": [
              "<div>\n",
              "<style scoped>\n",
              "    .dataframe tbody tr th:only-of-type {\n",
              "        vertical-align: middle;\n",
              "    }\n",
              "\n",
              "    .dataframe tbody tr th {\n",
              "        vertical-align: top;\n",
              "    }\n",
              "\n",
              "    .dataframe thead th {\n",
              "        text-align: right;\n",
              "    }\n",
              "</style>\n",
              "<table border=\"1\" class=\"dataframe\">\n",
              "  <thead>\n",
              "    <tr style=\"text-align: right;\">\n",
              "      <th></th>\n",
              "      <th>name</th>\n",
              "      <th>age</th>\n",
              "      <th>eng_marks</th>\n",
              "      <th>sci_marks</th>\n",
              "    </tr>\n",
              "  </thead>\n",
              "  <tbody>\n",
              "    <tr>\n",
              "      <th>0</th>\n",
              "      <td>riya</td>\n",
              "      <td>15</td>\n",
              "      <td>78</td>\n",
              "      <td>87</td>\n",
              "    </tr>\n",
              "    <tr>\n",
              "      <th>1</th>\n",
              "      <td>julie</td>\n",
              "      <td>16</td>\n",
              "      <td>45</td>\n",
              "      <td>54</td>\n",
              "    </tr>\n",
              "    <tr>\n",
              "      <th>2</th>\n",
              "      <td>marie</td>\n",
              "      <td>15</td>\n",
              "      <td>90</td>\n",
              "      <td>100</td>\n",
              "    </tr>\n",
              "    <tr>\n",
              "      <th>3</th>\n",
              "      <td>sandy</td>\n",
              "      <td>15</td>\n",
              "      <td>88</td>\n",
              "      <td>78</td>\n",
              "    </tr>\n",
              "    <tr>\n",
              "      <th>4</th>\n",
              "      <td>garim</td>\n",
              "      <td>16</td>\n",
              "      <td>65</td>\n",
              "      <td>55</td>\n",
              "    </tr>\n",
              "    <tr>\n",
              "      <th>5</th>\n",
              "      <td>darsh</td>\n",
              "      <td>15</td>\n",
              "      <td>94</td>\n",
              "      <td>44</td>\n",
              "    </tr>\n",
              "    <tr>\n",
              "      <th>6</th>\n",
              "      <td>ranisha</td>\n",
              "      <td>15</td>\n",
              "      <td>52</td>\n",
              "      <td>92</td>\n",
              "    </tr>\n",
              "    <tr>\n",
              "      <th>7</th>\n",
              "      <td>john</td>\n",
              "      <td>15</td>\n",
              "      <td>63</td>\n",
              "      <td>73</td>\n",
              "    </tr>\n",
              "    <tr>\n",
              "      <th>8</th>\n",
              "      <td>kri</td>\n",
              "      <td>16</td>\n",
              "      <td>89</td>\n",
              "      <td>91</td>\n",
              "    </tr>\n",
              "    <tr>\n",
              "      <th>9</th>\n",
              "      <td>sam</td>\n",
              "      <td>16</td>\n",
              "      <td>84</td>\n",
              "      <td>61</td>\n",
              "    </tr>\n",
              "    <tr>\n",
              "      <th>10</th>\n",
              "      <td>sam</td>\n",
              "      <td>16</td>\n",
              "      <td>84</td>\n",
              "      <td>61</td>\n",
              "    </tr>\n",
              "    <tr>\n",
              "      <th>13</th>\n",
              "      <td>sami</td>\n",
              "      <td>16</td>\n",
              "      <td>44</td>\n",
              "      <td>66</td>\n",
              "    </tr>\n",
              "  </tbody>\n",
              "</table>\n",
              "</div>"
            ],
            "text/plain": [
              "       name age eng_marks sci_marks\n",
              "0      riya  15        78        87\n",
              "1     julie  16        45        54\n",
              "2     marie  15        90       100\n",
              "3     sandy  15        88        78\n",
              "4     garim  16        65        55\n",
              "5     darsh  15        94        44\n",
              "6   ranisha  15        52        92\n",
              "7      john  15        63        73\n",
              "8       kri  16        89        91\n",
              "9       sam  16        84        61\n",
              "10      sam  16        84        61\n",
              "13     sami  16        44        66"
            ]
          },
          "metadata": {
            "tags": []
          },
          "execution_count": 38
        }
      ]
    },
    {
      "cell_type": "code",
      "metadata": {
        "id": "wfpp0y06twFE",
        "colab_type": "code",
        "colab": {
          "base_uri": "https://localhost:8080/",
          "height": 206
        },
        "outputId": "55a0272b-55bb-451a-ddd5-0c595d09128b"
      },
      "source": [
        "\n",
        "df['total_marks']=df['eng_marks'] + df['sci_marks']\n",
        "df.head()"
      ],
      "execution_count": null,
      "outputs": [
        {
          "output_type": "execute_result",
          "data": {
            "text/html": [
              "<div>\n",
              "<style scoped>\n",
              "    .dataframe tbody tr th:only-of-type {\n",
              "        vertical-align: middle;\n",
              "    }\n",
              "\n",
              "    .dataframe tbody tr th {\n",
              "        vertical-align: top;\n",
              "    }\n",
              "\n",
              "    .dataframe thead th {\n",
              "        text-align: right;\n",
              "    }\n",
              "</style>\n",
              "<table border=\"1\" class=\"dataframe\">\n",
              "  <thead>\n",
              "    <tr style=\"text-align: right;\">\n",
              "      <th></th>\n",
              "      <th>name</th>\n",
              "      <th>age</th>\n",
              "      <th>eng_marks</th>\n",
              "      <th>sci_marks</th>\n",
              "      <th>total_marks</th>\n",
              "    </tr>\n",
              "  </thead>\n",
              "  <tbody>\n",
              "    <tr>\n",
              "      <th>0</th>\n",
              "      <td>riya</td>\n",
              "      <td>15</td>\n",
              "      <td>78</td>\n",
              "      <td>87</td>\n",
              "      <td>165</td>\n",
              "    </tr>\n",
              "    <tr>\n",
              "      <th>1</th>\n",
              "      <td>julie</td>\n",
              "      <td>16</td>\n",
              "      <td>45</td>\n",
              "      <td>54</td>\n",
              "      <td>99</td>\n",
              "    </tr>\n",
              "    <tr>\n",
              "      <th>2</th>\n",
              "      <td>marie</td>\n",
              "      <td>15</td>\n",
              "      <td>90</td>\n",
              "      <td>100</td>\n",
              "      <td>190</td>\n",
              "    </tr>\n",
              "    <tr>\n",
              "      <th>3</th>\n",
              "      <td>sandy</td>\n",
              "      <td>15</td>\n",
              "      <td>88</td>\n",
              "      <td>78</td>\n",
              "      <td>166</td>\n",
              "    </tr>\n",
              "    <tr>\n",
              "      <th>4</th>\n",
              "      <td>garim</td>\n",
              "      <td>16</td>\n",
              "      <td>65</td>\n",
              "      <td>55</td>\n",
              "      <td>120</td>\n",
              "    </tr>\n",
              "  </tbody>\n",
              "</table>\n",
              "</div>"
            ],
            "text/plain": [
              "    name age eng_marks sci_marks total_marks\n",
              "0   riya  15        78        87         165\n",
              "1  julie  16        45        54          99\n",
              "2  marie  15        90       100         190\n",
              "3  sandy  15        88        78         166\n",
              "4  garim  16        65        55         120"
            ]
          },
          "metadata": {
            "tags": []
          },
          "execution_count": 39
        }
      ]
    },
    {
      "cell_type": "code",
      "metadata": {
        "id": "TgQCdp_2vzI6",
        "colab_type": "code",
        "colab": {
          "base_uri": "https://localhost:8080/",
          "height": 206
        },
        "outputId": "e88afcf5-c511-49f5-879b-34fbf181b551"
      },
      "source": [
        "df['percentage'] = (df['total_marks']/200)*100\n",
        "df.head()"
      ],
      "execution_count": null,
      "outputs": [
        {
          "output_type": "execute_result",
          "data": {
            "text/html": [
              "<div>\n",
              "<style scoped>\n",
              "    .dataframe tbody tr th:only-of-type {\n",
              "        vertical-align: middle;\n",
              "    }\n",
              "\n",
              "    .dataframe tbody tr th {\n",
              "        vertical-align: top;\n",
              "    }\n",
              "\n",
              "    .dataframe thead th {\n",
              "        text-align: right;\n",
              "    }\n",
              "</style>\n",
              "<table border=\"1\" class=\"dataframe\">\n",
              "  <thead>\n",
              "    <tr style=\"text-align: right;\">\n",
              "      <th></th>\n",
              "      <th>name</th>\n",
              "      <th>age</th>\n",
              "      <th>eng_marks</th>\n",
              "      <th>sci_marks</th>\n",
              "      <th>total_marks</th>\n",
              "      <th>percentage</th>\n",
              "    </tr>\n",
              "  </thead>\n",
              "  <tbody>\n",
              "    <tr>\n",
              "      <th>0</th>\n",
              "      <td>riya</td>\n",
              "      <td>15</td>\n",
              "      <td>78</td>\n",
              "      <td>87</td>\n",
              "      <td>165</td>\n",
              "      <td>82.5</td>\n",
              "    </tr>\n",
              "    <tr>\n",
              "      <th>1</th>\n",
              "      <td>julie</td>\n",
              "      <td>16</td>\n",
              "      <td>45</td>\n",
              "      <td>54</td>\n",
              "      <td>99</td>\n",
              "      <td>49.5</td>\n",
              "    </tr>\n",
              "    <tr>\n",
              "      <th>2</th>\n",
              "      <td>marie</td>\n",
              "      <td>15</td>\n",
              "      <td>90</td>\n",
              "      <td>100</td>\n",
              "      <td>190</td>\n",
              "      <td>95</td>\n",
              "    </tr>\n",
              "    <tr>\n",
              "      <th>3</th>\n",
              "      <td>sandy</td>\n",
              "      <td>15</td>\n",
              "      <td>88</td>\n",
              "      <td>78</td>\n",
              "      <td>166</td>\n",
              "      <td>83</td>\n",
              "    </tr>\n",
              "    <tr>\n",
              "      <th>4</th>\n",
              "      <td>garim</td>\n",
              "      <td>16</td>\n",
              "      <td>65</td>\n",
              "      <td>55</td>\n",
              "      <td>120</td>\n",
              "      <td>60</td>\n",
              "    </tr>\n",
              "  </tbody>\n",
              "</table>\n",
              "</div>"
            ],
            "text/plain": [
              "    name age eng_marks sci_marks total_marks percentage\n",
              "0   riya  15        78        87         165       82.5\n",
              "1  julie  16        45        54          99       49.5\n",
              "2  marie  15        90       100         190         95\n",
              "3  sandy  15        88        78         166         83\n",
              "4  garim  16        65        55         120         60"
            ]
          },
          "metadata": {
            "tags": []
          },
          "execution_count": 40
        }
      ]
    },
    {
      "cell_type": "markdown",
      "metadata": {
        "id": "ypidHhO4tucB",
        "colab_type": "text"
      },
      "source": [
        "<!-- adding new columns: -->"
      ]
    },
    {
      "cell_type": "markdown",
      "metadata": {
        "id": "IClTW6sstxpJ",
        "colab_type": "text"
      },
      "source": [
        "# adding new columns"
      ]
    },
    {
      "cell_type": "code",
      "metadata": {
        "id": "c2Ehg6BEttwf",
        "colab_type": "code",
        "colab": {}
      },
      "source": [
        ""
      ],
      "execution_count": null,
      "outputs": []
    },
    {
      "cell_type": "code",
      "metadata": {
        "id": "Fmk4rdZ4t_cV",
        "colab_type": "code",
        "colab": {}
      },
      "source": [
        ""
      ],
      "execution_count": null,
      "outputs": []
    },
    {
      "cell_type": "code",
      "metadata": {
        "id": "ilNAp7Y4uLze",
        "colab_type": "code",
        "colab": {}
      },
      "source": [
        ""
      ],
      "execution_count": null,
      "outputs": []
    },
    {
      "cell_type": "code",
      "metadata": {
        "id": "06ddCgpcwMTt",
        "colab_type": "code",
        "colab": {}
      },
      "source": [
        ""
      ],
      "execution_count": null,
      "outputs": []
    },
    {
      "cell_type": "markdown",
      "metadata": {
        "id": "YNn1ANjwuz7E",
        "colab_type": "text"
      },
      "source": [
        "## **we can also assign() function to add new columns.**\n",
        "syntax:df.assign(**kwargs) -> 'DataFrame'\n",
        "Assign new columns to a DataFrame.\n",
        "\n",
        "Returns a new object with all original columns in addition to new ones. Existing columns that are re-assigned will be overwritten.\n",
        "\n",
        "Parameters\n",
        "**kwargs : dict of {str: callable or Series}  \n",
        "    The column names are keywords. If the values are  \n",
        "    callable, they are computed on the DataFrame and  \n",
        "    assigned to the new columns. The callable must not  \n",
        "    change input DataFrame (though pandas doesn't check it).  "
      ]
    },
    {
      "cell_type": "code",
      "metadata": {
        "id": "on6_bavJuzBW",
        "colab_type": "code",
        "colab": {
          "base_uri": "https://localhost:8080/",
          "height": 206
        },
        "outputId": "525153aa-042c-4f12-a564-aea6af087afb"
      },
      "source": [
        "# if the percentage is more than 50% then students are pass\n",
        "result = []\n",
        "for percent in df['percentage']:\n",
        "  if percent > 50:\n",
        "    result.append('pass')\n",
        "  else:\n",
        "    result.append('better luck next time')\n",
        "\n",
        "df = df.assign(result= result)\n",
        "df.head()"
      ],
      "execution_count": null,
      "outputs": [
        {
          "output_type": "execute_result",
          "data": {
            "text/html": [
              "<div>\n",
              "<style scoped>\n",
              "    .dataframe tbody tr th:only-of-type {\n",
              "        vertical-align: middle;\n",
              "    }\n",
              "\n",
              "    .dataframe tbody tr th {\n",
              "        vertical-align: top;\n",
              "    }\n",
              "\n",
              "    .dataframe thead th {\n",
              "        text-align: right;\n",
              "    }\n",
              "</style>\n",
              "<table border=\"1\" class=\"dataframe\">\n",
              "  <thead>\n",
              "    <tr style=\"text-align: right;\">\n",
              "      <th></th>\n",
              "      <th>name</th>\n",
              "      <th>age</th>\n",
              "      <th>eng_marks</th>\n",
              "      <th>sci_marks</th>\n",
              "      <th>total_marks</th>\n",
              "      <th>percentage</th>\n",
              "      <th>result</th>\n",
              "    </tr>\n",
              "  </thead>\n",
              "  <tbody>\n",
              "    <tr>\n",
              "      <th>0</th>\n",
              "      <td>riya</td>\n",
              "      <td>15</td>\n",
              "      <td>78</td>\n",
              "      <td>87</td>\n",
              "      <td>165</td>\n",
              "      <td>82.5</td>\n",
              "      <td>pass</td>\n",
              "    </tr>\n",
              "    <tr>\n",
              "      <th>1</th>\n",
              "      <td>julie</td>\n",
              "      <td>16</td>\n",
              "      <td>45</td>\n",
              "      <td>54</td>\n",
              "      <td>99</td>\n",
              "      <td>49.5</td>\n",
              "      <td>better luck next time</td>\n",
              "    </tr>\n",
              "    <tr>\n",
              "      <th>2</th>\n",
              "      <td>marie</td>\n",
              "      <td>15</td>\n",
              "      <td>90</td>\n",
              "      <td>100</td>\n",
              "      <td>190</td>\n",
              "      <td>95</td>\n",
              "      <td>pass</td>\n",
              "    </tr>\n",
              "    <tr>\n",
              "      <th>3</th>\n",
              "      <td>sandy</td>\n",
              "      <td>15</td>\n",
              "      <td>88</td>\n",
              "      <td>78</td>\n",
              "      <td>166</td>\n",
              "      <td>83</td>\n",
              "      <td>pass</td>\n",
              "    </tr>\n",
              "    <tr>\n",
              "      <th>4</th>\n",
              "      <td>garim</td>\n",
              "      <td>16</td>\n",
              "      <td>65</td>\n",
              "      <td>55</td>\n",
              "      <td>120</td>\n",
              "      <td>60</td>\n",
              "      <td>pass</td>\n",
              "    </tr>\n",
              "  </tbody>\n",
              "</table>\n",
              "</div>"
            ],
            "text/plain": [
              "    name age eng_marks sci_marks total_marks percentage                 result\n",
              "0   riya  15        78        87         165       82.5                   pass\n",
              "1  julie  16        45        54          99       49.5  better luck next time\n",
              "2  marie  15        90       100         190         95                   pass\n",
              "3  sandy  15        88        78         166         83                   pass\n",
              "4  garim  16        65        55         120         60                   pass"
            ]
          },
          "metadata": {
            "tags": []
          },
          "execution_count": 43
        }
      ]
    },
    {
      "cell_type": "code",
      "metadata": {
        "id": "4XQPJ1t3v4J6",
        "colab_type": "code",
        "colab": {}
      },
      "source": [
        "result = ['pass' if per>50 else 'work hard'for per in df['percentage']]\n",
        "df = df.assign(new_result = result)"
      ],
      "execution_count": null,
      "outputs": []
    },
    {
      "cell_type": "code",
      "metadata": {
        "id": "dR2_Lfv6x3H6",
        "colab_type": "code",
        "colab": {}
      },
      "source": [
        ""
      ],
      "execution_count": null,
      "outputs": []
    },
    {
      "cell_type": "markdown",
      "metadata": {
        "id": "CMdokbS0P1ji",
        "colab_type": "text"
      },
      "source": [
        "# DELETION OF ROWS AND COLUMNS"
      ]
    },
    {
      "cell_type": "code",
      "metadata": {
        "id": "8kNyRLZ_PzpB",
        "colab_type": "code",
        "colab": {}
      },
      "source": [
        "# we can use index labels for deletion of rows\n",
        "# use column names for deletion of columns"
      ],
      "execution_count": null,
      "outputs": []
    },
    {
      "cell_type": "code",
      "metadata": {
        "id": "Lj1MLscDSvK6",
        "colab_type": "code",
        "colab": {}
      },
      "source": [
        "df = pd.DataFrame({'name':pd.Series(['riya','julie','marie','sandy','garim','darsh','ranisha','john']),'age':pd.Series([15,16,15,15,16,15,15,15]),'eng_marks':pd.Series([78,45,90,88,65,94,52,63]),'sci_marks':pd.Series([87,54,100,78,55,44,92,73])})\n"
      ],
      "execution_count": null,
      "outputs": []
    },
    {
      "cell_type": "code",
      "metadata": {
        "id": "oTn7ATy9QVOt",
        "colab_type": "code",
        "colab": {
          "base_uri": "https://localhost:8080/",
          "height": 206
        },
        "outputId": "10f1339e-3285-4d97-f54c-ce35f81ac75f"
      },
      "source": [
        "# using index labels :\n",
        "df.drop(9,axis =0,inplace=True)\n",
        "df.tail()"
      ],
      "execution_count": null,
      "outputs": [
        {
          "output_type": "execute_result",
          "data": {
            "text/html": [
              "<div>\n",
              "<style scoped>\n",
              "    .dataframe tbody tr th:only-of-type {\n",
              "        vertical-align: middle;\n",
              "    }\n",
              "\n",
              "    .dataframe tbody tr th {\n",
              "        vertical-align: top;\n",
              "    }\n",
              "\n",
              "    .dataframe thead th {\n",
              "        text-align: right;\n",
              "    }\n",
              "</style>\n",
              "<table border=\"1\" class=\"dataframe\">\n",
              "  <thead>\n",
              "    <tr style=\"text-align: right;\">\n",
              "      <th></th>\n",
              "      <th>name</th>\n",
              "      <th>age</th>\n",
              "      <th>eng_marks</th>\n",
              "      <th>sci_marks</th>\n",
              "      <th>total_marks</th>\n",
              "      <th>percentage</th>\n",
              "      <th>result</th>\n",
              "    </tr>\n",
              "  </thead>\n",
              "  <tbody>\n",
              "    <tr>\n",
              "      <th>6</th>\n",
              "      <td>ranisha</td>\n",
              "      <td>15</td>\n",
              "      <td>52</td>\n",
              "      <td>92</td>\n",
              "      <td>144</td>\n",
              "      <td>72</td>\n",
              "      <td>pass</td>\n",
              "    </tr>\n",
              "    <tr>\n",
              "      <th>7</th>\n",
              "      <td>john</td>\n",
              "      <td>15</td>\n",
              "      <td>63</td>\n",
              "      <td>73</td>\n",
              "      <td>136</td>\n",
              "      <td>68</td>\n",
              "      <td>pass</td>\n",
              "    </tr>\n",
              "    <tr>\n",
              "      <th>8</th>\n",
              "      <td>kri</td>\n",
              "      <td>16</td>\n",
              "      <td>89</td>\n",
              "      <td>91</td>\n",
              "      <td>180</td>\n",
              "      <td>90</td>\n",
              "      <td>pass</td>\n",
              "    </tr>\n",
              "    <tr>\n",
              "      <th>10</th>\n",
              "      <td>sam</td>\n",
              "      <td>16</td>\n",
              "      <td>84</td>\n",
              "      <td>61</td>\n",
              "      <td>145</td>\n",
              "      <td>72.5</td>\n",
              "      <td>pass</td>\n",
              "    </tr>\n",
              "    <tr>\n",
              "      <th>13</th>\n",
              "      <td>sami</td>\n",
              "      <td>16</td>\n",
              "      <td>44</td>\n",
              "      <td>66</td>\n",
              "      <td>110</td>\n",
              "      <td>55</td>\n",
              "      <td>pass</td>\n",
              "    </tr>\n",
              "  </tbody>\n",
              "</table>\n",
              "</div>"
            ],
            "text/plain": [
              "       name age eng_marks sci_marks total_marks percentage result\n",
              "6   ranisha  15        52        92         144         72   pass\n",
              "7      john  15        63        73         136         68   pass\n",
              "8       kri  16        89        91         180         90   pass\n",
              "10      sam  16        84        61         145       72.5   pass\n",
              "13     sami  16        44        66         110         55   pass"
            ]
          },
          "metadata": {
            "tags": []
          },
          "execution_count": 45
        }
      ]
    },
    {
      "cell_type": "code",
      "metadata": {
        "id": "xq-V9KDRRL8L",
        "colab_type": "code",
        "colab": {}
      },
      "source": [
        "#using column names\n",
        "df.drop(['new_result'],axis = 1,inplace = True)"
      ],
      "execution_count": null,
      "outputs": []
    },
    {
      "cell_type": "code",
      "metadata": {
        "id": "9ru-AILfRiOq",
        "colab_type": "code",
        "colab": {
          "base_uri": "https://localhost:8080/",
          "height": 395
        },
        "outputId": "8375cc0a-713f-43f5-f3ea-198bc2796dab"
      },
      "source": [
        "df"
      ],
      "execution_count": null,
      "outputs": [
        {
          "output_type": "execute_result",
          "data": {
            "text/html": [
              "<div>\n",
              "<style scoped>\n",
              "    .dataframe tbody tr th:only-of-type {\n",
              "        vertical-align: middle;\n",
              "    }\n",
              "\n",
              "    .dataframe tbody tr th {\n",
              "        vertical-align: top;\n",
              "    }\n",
              "\n",
              "    .dataframe thead th {\n",
              "        text-align: right;\n",
              "    }\n",
              "</style>\n",
              "<table border=\"1\" class=\"dataframe\">\n",
              "  <thead>\n",
              "    <tr style=\"text-align: right;\">\n",
              "      <th></th>\n",
              "      <th>name</th>\n",
              "      <th>age</th>\n",
              "      <th>eng_marks</th>\n",
              "      <th>sci_marks</th>\n",
              "      <th>total_marks</th>\n",
              "      <th>percentage</th>\n",
              "      <th>result</th>\n",
              "    </tr>\n",
              "  </thead>\n",
              "  <tbody>\n",
              "    <tr>\n",
              "      <th>0</th>\n",
              "      <td>riya</td>\n",
              "      <td>15</td>\n",
              "      <td>78</td>\n",
              "      <td>87</td>\n",
              "      <td>165</td>\n",
              "      <td>82.5</td>\n",
              "      <td>pass</td>\n",
              "    </tr>\n",
              "    <tr>\n",
              "      <th>1</th>\n",
              "      <td>julie</td>\n",
              "      <td>16</td>\n",
              "      <td>45</td>\n",
              "      <td>54</td>\n",
              "      <td>99</td>\n",
              "      <td>49.5</td>\n",
              "      <td>better luck next time</td>\n",
              "    </tr>\n",
              "    <tr>\n",
              "      <th>2</th>\n",
              "      <td>marie</td>\n",
              "      <td>15</td>\n",
              "      <td>90</td>\n",
              "      <td>100</td>\n",
              "      <td>190</td>\n",
              "      <td>95</td>\n",
              "      <td>pass</td>\n",
              "    </tr>\n",
              "    <tr>\n",
              "      <th>3</th>\n",
              "      <td>sandy</td>\n",
              "      <td>15</td>\n",
              "      <td>88</td>\n",
              "      <td>78</td>\n",
              "      <td>166</td>\n",
              "      <td>83</td>\n",
              "      <td>pass</td>\n",
              "    </tr>\n",
              "    <tr>\n",
              "      <th>4</th>\n",
              "      <td>garim</td>\n",
              "      <td>16</td>\n",
              "      <td>65</td>\n",
              "      <td>55</td>\n",
              "      <td>120</td>\n",
              "      <td>60</td>\n",
              "      <td>pass</td>\n",
              "    </tr>\n",
              "    <tr>\n",
              "      <th>5</th>\n",
              "      <td>darsh</td>\n",
              "      <td>15</td>\n",
              "      <td>94</td>\n",
              "      <td>44</td>\n",
              "      <td>138</td>\n",
              "      <td>69</td>\n",
              "      <td>pass</td>\n",
              "    </tr>\n",
              "    <tr>\n",
              "      <th>6</th>\n",
              "      <td>ranisha</td>\n",
              "      <td>15</td>\n",
              "      <td>52</td>\n",
              "      <td>92</td>\n",
              "      <td>144</td>\n",
              "      <td>72</td>\n",
              "      <td>pass</td>\n",
              "    </tr>\n",
              "    <tr>\n",
              "      <th>7</th>\n",
              "      <td>john</td>\n",
              "      <td>15</td>\n",
              "      <td>63</td>\n",
              "      <td>73</td>\n",
              "      <td>136</td>\n",
              "      <td>68</td>\n",
              "      <td>pass</td>\n",
              "    </tr>\n",
              "    <tr>\n",
              "      <th>8</th>\n",
              "      <td>kri</td>\n",
              "      <td>16</td>\n",
              "      <td>89</td>\n",
              "      <td>91</td>\n",
              "      <td>180</td>\n",
              "      <td>90</td>\n",
              "      <td>pass</td>\n",
              "    </tr>\n",
              "    <tr>\n",
              "      <th>10</th>\n",
              "      <td>sam</td>\n",
              "      <td>16</td>\n",
              "      <td>84</td>\n",
              "      <td>61</td>\n",
              "      <td>145</td>\n",
              "      <td>72.5</td>\n",
              "      <td>pass</td>\n",
              "    </tr>\n",
              "    <tr>\n",
              "      <th>13</th>\n",
              "      <td>sami</td>\n",
              "      <td>16</td>\n",
              "      <td>44</td>\n",
              "      <td>66</td>\n",
              "      <td>110</td>\n",
              "      <td>55</td>\n",
              "      <td>pass</td>\n",
              "    </tr>\n",
              "  </tbody>\n",
              "</table>\n",
              "</div>"
            ],
            "text/plain": [
              "       name age eng_marks  ... total_marks percentage                 result\n",
              "0      riya  15        78  ...         165       82.5                   pass\n",
              "1     julie  16        45  ...          99       49.5  better luck next time\n",
              "2     marie  15        90  ...         190         95                   pass\n",
              "3     sandy  15        88  ...         166         83                   pass\n",
              "4     garim  16        65  ...         120         60                   pass\n",
              "5     darsh  15        94  ...         138         69                   pass\n",
              "6   ranisha  15        52  ...         144         72                   pass\n",
              "7      john  15        63  ...         136         68                   pass\n",
              "8       kri  16        89  ...         180         90                   pass\n",
              "10      sam  16        84  ...         145       72.5                   pass\n",
              "13     sami  16        44  ...         110         55                   pass\n",
              "\n",
              "[11 rows x 7 columns]"
            ]
          },
          "metadata": {
            "tags": []
          },
          "execution_count": 49
        }
      ]
    },
    {
      "cell_type": "code",
      "metadata": {
        "id": "LGHlilDnSFDU",
        "colab_type": "code",
        "colab": {}
      },
      "source": [
        "df.append()"
      ],
      "execution_count": null,
      "outputs": []
    }
  ]
}